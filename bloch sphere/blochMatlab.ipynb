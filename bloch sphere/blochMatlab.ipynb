{
 "cells": [
  {
   "cell_type": "code",
   "execution_count": null,
   "metadata": {},
   "outputs": [],
   "source": [
    "import numpy as np\n",
    "import matplotlib.pyplot as plt\n",
    "from mpl_toolkits.mplot3d import Axes3D\n",
    "\n",
    "def plot_bloch_sphere(state):\n",
    "    # Create a figure\n",
    "    fig = plt.figure()\n",
    "    ax = fig.add_subplot(111, projection='3d')\n",
    "\n",
    "    # Draw the sphere\n",
    "    u = np.linspace(0, 2 * np.pi, 100)\n",
    "    v = np.linspace(0, np.pi, 100)\n",
    "    x = np.outer(np.cos(u), np.sin(v))\n",
    "    y = np.outer(np.sin(u), np.sin(v))\n",
    "    z = np.outer(np.ones(np.size(u)), np.cos(v))\n",
    "\n",
    "    ax.plot_surface(x, y, z, color='b', alpha=0.1, edgecolor='w')\n",
    "\n",
    "    # Draw axes\n",
    "    ax.quiver(0, 0, 0, 1, 0, 0, color='r', arrow_length_ratio=0.1)\n",
    "    ax.quiver(0, 0, 0, 0, 1, 0, color='g', arrow_length_ratio=0.1)\n",
    "    ax.quiver(0, 0, 0, 0, 0, 1, color='b', arrow_length_ratio=0.1)\n",
    "\n",
    "    # State coordinates on the Bloch sphere\n",
    "    theta, phi = state\n",
    "    x_state = np.sin(theta) * np.cos(phi)\n",
    "    y_state = np.sin(theta) * np.sin(phi)\n",
    "    z_state = np.cos(theta)\n",
    "\n",
    "    # Plot the qubit state\n",
    "    ax.quiver(0, 0, 0, x_state, y_state, z_state, color='k', arrow_length_ratio=0.1)\n",
    "    ax.scatter(x_state, y_state, z_state, color='r', s=100)\n",
    "\n",
    "    # Set labels\n",
    "    ax.set_xlabel('X')\n",
    "    ax.set_ylabel('Y')\n",
    "    ax.set_zlabel('Z')\n",
    "    \n",
    "    # Set aspect ratio\n",
    "    ax.set_box_aspect([1, 1, 1])\n",
    "\n",
    "    plt.show()\n",
    "\n",
    "\n",
    "theta = np.pi / 3\n",
    "phi = np.pi \n",
    "\n",
    "plot_bloch_sphere((theta, phi))"
   ]
  }
 ],
 "metadata": {
  "language_info": {
   "name": "python"
  }
 },
 "nbformat": 4,
 "nbformat_minor": 2
}
